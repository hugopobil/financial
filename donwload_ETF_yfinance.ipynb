{
 "cells": [
  {
   "cell_type": "code",
   "execution_count": 22,
   "outputs": [],
   "source": [
    "import pandas as pd\n",
    "import yfinance\n",
    "from src import project_dir\n",
    "import os\n",
    "import matplotlib"
   ],
   "metadata": {
    "collapsed": false,
    "pycharm": {
     "name": "#%%\n"
    }
   }
  },
  {
   "cell_type": "code",
   "execution_count": 24,
   "outputs": [],
   "source": [
    "# Function to save\n",
    "def financial_data_to_csv(ticker, directory, sector_name, country):\n",
    "    interval = '1d'\n",
    "    data = yfinance.download(ticker, interval=interval)\n",
    "    # data.reset_index()\n",
    "    data['Ticker'] = ticker\n",
    "    data['Country'] = country\n",
    "    data['Sector'] = sector_name\n",
    "\n",
    "    if country == 'us':\n",
    "        data['Currency'] = 'USD'\n",
    "\n",
    "    if country == 'swiss':\n",
    "        data['Currency'] = 'EUR'\n",
    "        \n",
    "    data = data[data.index >= '2016-01-01']\n",
    "    # df_list.append(data)\n",
    "    # df = pd.concat(df_list)\n",
    "\n",
    "    fn = f'{directory}/{country}'\n",
    "\n",
    "    if not os.path.isdir(fn):\n",
    "        os.mkdir(fn)\n",
    "    data.to_csv(path_or_buf=fn + '/' + country + '_' + sector_name + '_' + ticker + '.csv')\n",
    "    print(f'Tamaño: {data.shape[0]} filas')"
   ],
   "metadata": {
    "collapsed": false,
    "pycharm": {
     "name": "#%%\n"
    }
   }
  },
  {
   "cell_type": "code",
   "execution_count": 25,
   "outputs": [],
   "source": [
    "etfs = {\n",
    "    'swiss' : {\n",
    "        'health_care'   : 'ESIH.DE',\n",
    "        'technology'    : 'ESIT.DE',\n",
    "        'financials'    : 'EUFN'\n",
    "    },\n",
    "    'us' : {\n",
    "        'health_care'   : 'IUHC.L',\n",
    "        'technology'    : 'IUIT.L',\n",
    "        'financials'    : 'IUFS.L'\n",
    "    }\n",
    "}\n",
    "\n",
    "path_to_save = f'{project_dir}/data_store/external/ETFs'"
   ],
   "metadata": {
    "collapsed": false,
    "pycharm": {
     "name": "#%%\n"
    }
   }
  },
  {
   "cell_type": "code",
   "execution_count": 26,
   "outputs": [
    {
     "name": "stdout",
     "output_type": "stream",
     "text": [
      "swiss\n",
      "health_care\n",
      "[*********************100%***********************]  1 of 1 completed\n",
      "Tamaño: 415 filas\n",
      "technology\n",
      "[*********************100%***********************]  1 of 1 completed\n",
      "Tamaño: 414 filas\n",
      "financials\n",
      "[*********************100%***********************]  1 of 1 completed\n",
      "Tamaño: 1637 filas\n",
      "us\n",
      "health_care\n",
      "[*********************100%***********************]  1 of 1 completed\n",
      "Tamaño: 1644 filas\n",
      "technology\n",
      "[*********************100%***********************]  1 of 1 completed\n",
      "Tamaño: 1644 filas\n",
      "financials\n",
      "[*********************100%***********************]  1 of 1 completed\n",
      "Tamaño: 1644 filas\n"
     ]
    }
   ],
   "source": [
    "for country in etfs.keys():\n",
    "    print(country)\n",
    "    for sector in etfs[country]:\n",
    "        print(sector)\n",
    "        financial_data_to_csv(etfs[country][sector], path_to_save, sector, country)"
   ],
   "metadata": {
    "collapsed": false,
    "pycharm": {
     "name": "#%%\n"
    }
   }
  },
  {
   "cell_type": "markdown",
   "source": [
    "### Help function to change currency"
   ],
   "metadata": {
    "collapsed": false,
    "pycharm": {
     "name": "#%% md\n"
    }
   }
  },
  {
   "cell_type": "code",
   "execution_count": 37,
   "outputs": [],
   "source": [
    "def change_currency(file_name:str, currency:str):\n",
    "    df = pd.read_csv(file_name)\n",
    "    df['Currency'] = currency\n",
    "    df.to_csv(file_name)\n",
    "    return 'Currency has been changed'"
   ],
   "metadata": {
    "collapsed": false,
    "pycharm": {
     "name": "#%%\n"
    }
   }
  },
  {
   "cell_type": "code",
   "execution_count": 38,
   "outputs": [
    {
     "data": {
      "text/plain": "'Currency has been changed'"
     },
     "execution_count": 38,
     "metadata": {},
     "output_type": "execute_result"
    }
   ],
   "source": [
    "change_currency('/Users/hpp/PycharmProjects/Sandhill/data_store/external/ETFs/swiss/swiss_financials_EUFN.csv', 'USD')"
   ],
   "metadata": {
    "collapsed": false,
    "pycharm": {
     "name": "#%%\n"
    }
   }
  }
 ],
 "metadata": {
  "kernelspec": {
   "display_name": "Python 3",
   "language": "python",
   "name": "python3"
  },
  "language_info": {
   "codemirror_mode": {
    "name": "ipython",
    "version": 2
   },
   "file_extension": ".py",
   "mimetype": "text/x-python",
   "name": "python",
   "nbconvert_exporter": "python",
   "pygments_lexer": "ipython2",
   "version": "2.7.6"
  }
 },
 "nbformat": 4,
 "nbformat_minor": 0
}